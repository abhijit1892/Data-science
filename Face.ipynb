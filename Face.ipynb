{
  "cells": [
    {
      "cell_type": "code",
      "source": [
        "from google.colab import drive\n",
        "drive.mount('/content/drive')"
      ],
      "metadata": {
        "colab": {
          "base_uri": "https://localhost:8080/"
        },
        "id": "rPp5LEela4PE",
        "outputId": "21c5a3b2-77a7-41d8-ad8b-4548a6b6e9a5"
      },
      "execution_count": 3,
      "outputs": [
        {
          "output_type": "stream",
          "name": "stdout",
          "text": [
            "Mounted at /content/drive\n"
          ]
        }
      ]
    },
    {
      "cell_type": "code",
      "source": [
        "import csv\n",
        "data={}\n",
        "with open('/legend.csv') as f:\n",
        "  reader=csv.reader(f)\n",
        "  next(reader)\n",
        "  for row in reader:\n",
        "    key=row[2].lower()\n",
        "    if key in data:\n",
        "      data[key].append(row[1])\n",
        "    else:\n",
        "      data[key]=[row[1]]"
      ],
      "metadata": {
        "id": "jQx-dGyeUpp5"
      },
      "execution_count": 4,
      "outputs": []
    },
    {
      "cell_type": "code",
      "source": [
        "emotion_list=list(data.keys())\n",
        "emotion_list"
      ],
      "metadata": {
        "id": "8pqpuQafWjdz",
        "outputId": "d0265ade-54ca-498e-a91e-01cecd9742d7",
        "colab": {
          "base_uri": "https://localhost:8080/"
        }
      },
      "execution_count": 5,
      "outputs": [
        {
          "output_type": "execute_result",
          "data": {
            "text/plain": [
              "['anger',\n",
              " 'surprise',\n",
              " 'disgust',\n",
              " 'fear',\n",
              " 'neutral',\n",
              " 'happiness',\n",
              " 'sadness',\n",
              " 'contempt']"
            ]
          },
          "metadata": {},
          "execution_count": 5
        }
      ]
    },
    {
      "cell_type": "code",
      "source": [
        "import os\n",
        "os.mkdir('master_data')\n",
        "os.mkdir('master_data/training')\n",
        "os.mkdir('master_data/testing')"
      ],
      "metadata": {
        "id": "pb2SwGvHWjhM"
      },
      "execution_count": 6,
      "outputs": []
    },
    {
      "cell_type": "code",
      "source": [
        "for emotion in emotion_list:\n",
        "  os.mkdir(os.path.join('master_data/training/',emotion))\n",
        "  os.mkdir(os.path.join('master_data/testing/',emotion))"
      ],
      "metadata": {
        "id": "SEJm1K_MXiEw"
      },
      "execution_count": 7,
      "outputs": []
    },
    {
      "cell_type": "code",
      "source": [
        "from shutil import copyfile\n",
        "import os\n",
        "\n",
        "split_size = 0.8\n",
        "\n",
        "for emotion, images in data.items():\n",
        "    train_size = int(split_size * len(images))\n",
        "    train_images = images[:train_size]\n",
        "    test_images = images[train_size:]\n",
        "\n",
        "    # Copy train images\n",
        "    for image in train_images:\n",
        "        source = os.path.join('/content/facial_expressions/images', image)\n",
        "        dest = os.path.join('/content/master_data/training', emotion, image)\n",
        "        copyfile(source, dest)\n",
        "\n",
        "    # Copy test images\n",
        "    for image in test_images:\n",
        "        source = os.path.join('/content/facial_expressions/images', image)\n",
        "        dest = os.path.join('/content/master_data/testing', emotion, image)\n",
        "        copyfile(source, dest)\n",
        "\n"
      ],
      "metadata": {
        "id": "Pm9uHBiBYKU4"
      },
      "execution_count": 13,
      "outputs": []
    },
    {
      "cell_type": "code",
      "source": [
        "import tensorflow as tf\n",
        "from tensorflow.keras.preprocessing.image import ImageDataGenerator\n",
        "from tensorflow.keras.optimizers import Adam\n",
        "from tensorflow.keras.callbacks import EarlyStopping\n",
        "from tensorflow.keras.layers import Conv2D, MaxPooling2D,Dense, Flatten"
      ],
      "metadata": {
        "id": "_y9pPAVCYKXL"
      },
      "execution_count": 16,
      "outputs": []
    },
    {
      "cell_type": "code",
      "source": [
        "model=tf.keras.models.Sequential([\n",
        "    Conv2D(16,(3,3),activation='relu',input_shape=(100,100,3)),\n",
        "    MaxPooling2D(2,2),\n",
        "    Conv2D(32,(3,3),activation='relu'),\n",
        "    MaxPooling2D(2,2),\n",
        "    Conv2D(64,(3,3),activation='relu'),\n",
        "    MaxPooling2D(2,2),\n",
        "    Flatten(),\n",
        "    Dense(1024,activation='relu'),\n",
        "    Dense(8,activation='softmax')\n",
        "\n",
        "\n",
        "])\n",
        "model.compile(optimizer=Adam(lr=0.01),loss='categorical_crossentropy',metrics=['acc'])\n",
        "model.summary()"
      ],
      "metadata": {
        "id": "REJcZWCYYKZ9",
        "colab": {
          "base_uri": "https://localhost:8080/"
        },
        "outputId": "c03b63c8-e566-484f-ab46-ad5042cf47a5"
      },
      "execution_count": 25,
      "outputs": [
        {
          "output_type": "stream",
          "name": "stderr",
          "text": [
            "WARNING:absl:`lr` is deprecated in Keras optimizer, please use `learning_rate` or use the legacy optimizer, e.g.,tf.keras.optimizers.legacy.Adam.\n"
          ]
        },
        {
          "output_type": "stream",
          "name": "stdout",
          "text": [
            "Model: \"sequential_2\"\n",
            "_________________________________________________________________\n",
            " Layer (type)                Output Shape              Param #   \n",
            "=================================================================\n",
            " conv2d_6 (Conv2D)           (None, 98, 98, 16)        448       \n",
            "                                                                 \n",
            " max_pooling2d_6 (MaxPoolin  (None, 49, 49, 16)        0         \n",
            " g2D)                                                            \n",
            "                                                                 \n",
            " conv2d_7 (Conv2D)           (None, 47, 47, 32)        4640      \n",
            "                                                                 \n",
            " max_pooling2d_7 (MaxPoolin  (None, 23, 23, 32)        0         \n",
            " g2D)                                                            \n",
            "                                                                 \n",
            " conv2d_8 (Conv2D)           (None, 21, 21, 64)        18496     \n",
            "                                                                 \n",
            " max_pooling2d_8 (MaxPoolin  (None, 10, 10, 64)        0         \n",
            " g2D)                                                            \n",
            "                                                                 \n",
            " flatten_2 (Flatten)         (None, 6400)              0         \n",
            "                                                                 \n",
            " dense_2 (Dense)             (None, 1024)              6554624   \n",
            "                                                                 \n",
            " dense_3 (Dense)             (None, 8)                 8200      \n",
            "                                                                 \n",
            "=================================================================\n",
            "Total params: 6586408 (25.13 MB)\n",
            "Trainable params: 6586408 (25.13 MB)\n",
            "Non-trainable params: 0 (0.00 Byte)\n",
            "_________________________________________________________________\n"
          ]
        }
      ]
    },
    {
      "cell_type": "code",
      "source": [
        "training_dir='/content/master_data/training'\n",
        "testing_dir='/content/master_data/testing'\n",
        "train_datagen=ImageDataGenerator(rescale=1.0/255)\n",
        "train_generator=train_datagen.flow_from_directory(\n",
        "                                                  training_dir,\n",
        "                                                  target_size=(100,100),\n",
        "                                                  class_mode='categorical',\n",
        "                                                  batch_size=128\n",
        "                                                  )\n",
        "test_datagen=ImageDataGenerator(rescale=1.0/255)\n",
        "test_generator=test_datagen.flow_from_directory(\n",
        "                                                  testing_dir,\n",
        "                                                  target_size=(100,100),\n",
        "                                                  class_mode='categorical',\n",
        "                                                  batch_size=128\n",
        "                                                  )"
      ],
      "metadata": {
        "id": "KQNB9-KAYKdT",
        "colab": {
          "base_uri": "https://localhost:8080/"
        },
        "outputId": "8742f203-722f-40a1-c26a-852bf71de792"
      },
      "execution_count": 26,
      "outputs": [
        {
          "output_type": "stream",
          "name": "stdout",
          "text": [
            "Found 10941 images belonging to 8 classes.\n",
            "Found 2742 images belonging to 8 classes.\n"
          ]
        }
      ]
    },
    {
      "cell_type": "code",
      "source": [
        "es=EarlyStopping(monitor='val_acc',patience=2,min_delta=0.01)"
      ],
      "metadata": {
        "id": "kKTGyyMHlJDe"
      },
      "execution_count": 27,
      "outputs": []
    },
    {
      "cell_type": "code",
      "source": [],
      "metadata": {
        "id": "yorcB2CzlJIz"
      },
      "execution_count": null,
      "outputs": []
    },
    {
      "cell_type": "code",
      "source": [
        "model.fit_generator(train_generator,\n",
        "                    epochs=5,\n",
        "                    verbose=1,\n",
        "                    validation_data=test_generator,\n",
        "                    callbacks=[es])"
      ],
      "metadata": {
        "colab": {
          "base_uri": "https://localhost:8080/"
        },
        "id": "rK_nOJEolJGD",
        "outputId": "6f483b58-2d98-4b8a-9b00-c195837aa116"
      },
      "execution_count": 31,
      "outputs": [
        {
          "output_type": "stream",
          "name": "stderr",
          "text": [
            "<ipython-input-31-05e47a449e80>:1: UserWarning: `Model.fit_generator` is deprecated and will be removed in a future version. Please use `Model.fit`, which supports generators.\n",
            "  model.fit_generator(train_generator,\n",
            "Exception ignored in: <function _xla_gc_callback at 0x7c9f236cd630>\n",
            "Traceback (most recent call last):\n",
            "  File \"/usr/local/lib/python3.10/dist-packages/jax/_src/lib/__init__.py\", line 97, in _xla_gc_callback\n",
            "    def _xla_gc_callback(*args):\n",
            "KeyboardInterrupt: \n"
          ]
        },
        {
          "output_type": "stream",
          "name": "stdout",
          "text": [
            "Epoch 1/20\n",
            "86/86 [==============================] - 74s 863ms/step - loss: 0.1611 - acc: 0.9389 - val_loss: 2.4889 - val_acc: 0.6838\n",
            "Epoch 2/20\n",
            "86/86 [==============================] - 79s 919ms/step - loss: 0.1267 - acc: 0.9536 - val_loss: 2.8570 - val_acc: 0.6689\n",
            "Epoch 3/20\n",
            "86/86 [==============================] - 74s 864ms/step - loss: 0.1009 - acc: 0.9634 - val_loss: 3.3170 - val_acc: 0.6787\n"
          ]
        },
        {
          "output_type": "execute_result",
          "data": {
            "text/plain": [
              "<keras.src.callbacks.History at 0x7c9f01217c70>"
            ]
          },
          "metadata": {},
          "execution_count": 31
        }
      ]
    },
    {
      "cell_type": "code",
      "source": [],
      "metadata": {
        "id": "ikWCuxe8lJLb"
      },
      "execution_count": null,
      "outputs": []
    },
    {
      "cell_type": "code",
      "source": [],
      "metadata": {
        "id": "uJcbO_FQlJN8"
      },
      "execution_count": null,
      "outputs": []
    },
    {
      "cell_type": "code",
      "source": [],
      "metadata": {
        "id": "Mk5lxYDdlJRZ"
      },
      "execution_count": null,
      "outputs": []
    }
  ],
  "metadata": {
    "colab": {
      "provenance": []
    },
    "kernelspec": {
      "display_name": "Python 3",
      "name": "python3"
    }
  },
  "nbformat": 4,
  "nbformat_minor": 0
}